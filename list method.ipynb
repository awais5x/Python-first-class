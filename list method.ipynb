{
 "cells": [
  {
   "cell_type": "code",
   "execution_count": 8,
   "metadata": {},
   "outputs": [
    {
     "name": "stdout",
     "output_type": "stream",
     "text": [
      "['sunny janjua', 'sunny janjua']\n"
     ]
    }
   ],
   "source": [
    "array=[\"sunny janjua\"]\n",
    "array.append(\"sunny janjua\")\n",
    "print(array)"
   ]
  },
  {
   "cell_type": "code",
   "execution_count": 9,
   "metadata": {},
   "outputs": [
    {
     "name": "stdout",
     "output_type": "stream",
     "text": [
      "my list is [104, 1043, 102, 102, 106, 1098, 'hussnian', 'awais', 'danish', 'ali', 'usman', 3434.3223, True, False]\n"
     ]
    }
   ],
   "source": [
    "array:list = [104, 1043, 102,102, 106, 1098 ,\"hussnian\",\"awais\",\"danish\",\"ali\",\"usman\",3434.3223,True,False]\n",
    "print(f\"my list is {array}\")"
   ]
  },
  {
   "cell_type": "code",
   "execution_count": 14,
   "metadata": {},
   "outputs": [
    {
     "name": "stdout",
     "output_type": "stream",
     "text": [
      "106\n",
      "[104, 1043, 102, 102, 1098, 'hussnian', 'awais', 'danish', 'ali', 'usman', 3434.3223, True, False]\n"
     ]
    }
   ],
   "source": [
    "# array.pop() use for remove value in aray\n",
    "array:list = [104, 1043, 102,102, 106, 1098 ,\"hussnian\",\"awais\",\"danish\",\"ali\",\"usman\",3434.3223,True,False]\n",
    "print(array.pop(4))\n",
    "print(array)"
   ]
  },
  {
   "cell_type": "code",
   "execution_count": 15,
   "metadata": {},
   "outputs": [
    {
     "name": "stdout",
     "output_type": "stream",
     "text": [
      "2\n"
     ]
    }
   ],
   "source": [
    "array:list = [104, 1043, 102,102, 106, 1098 ,\"hussnian\",\"awais\",\"danish\",\"ali\",\"usman\",3434.3223,True,False]\n",
    "print(array.index(102))"
   ]
  },
  {
   "cell_type": "code",
   "execution_count": null,
   "metadata": {},
   "outputs": [],
   "source": []
  }
 ],
 "metadata": {
  "kernelspec": {
   "display_name": "Python 3",
   "language": "python",
   "name": "python3"
  },
  "language_info": {
   "codemirror_mode": {
    "name": "ipython",
    "version": 3
   },
   "file_extension": ".py",
   "mimetype": "text/x-python",
   "name": "python",
   "nbconvert_exporter": "python",
   "pygments_lexer": "ipython3",
   "version": "3.12.1"
  }
 },
 "nbformat": 4,
 "nbformat_minor": 2
}
