{
 "cells": [
  {
   "cell_type": "code",
   "execution_count": 9,
   "metadata": {},
   "outputs": [
    {
     "name": "stdout",
     "output_type": "stream",
     "text": [
      "my list is [104, 1043, 102, 102, 106, 1098, 'hussnian', 'awais', 'danish', 'ali', 'usman', 3434.3223, True, False]\n"
     ]
    }
   ],
   "source": [
    "array:list = [104, 1043, 102,102, 106, 1098 ,\"hussnian\",\"awais\",\"danish\",\"ali\",\"usman\",3434.3223,True,False]\n",
    "print(f\"my list is {array}\")"
   ]
  },
  {
   "cell_type": "code",
   "execution_count": 16,
   "metadata": {},
   "outputs": [
    {
     "name": "stdout",
     "output_type": "stream",
     "text": [
      "my list is [104, 1043, 102, 102, 106, 1098, 'hussnian', 'awais', 'danish', 'ali', 'usman', 3434.3223, True, False, 'sunny janjua']\n"
     ]
    }
   ],
   "source": [
    "# use to add value in list\n",
    "array:list = [104, 1043, 102,102, 106, 1098 ,\"hussnian\",\"awais\",\"danish\",\"ali\",\"usman\",3434.3223,True,False]\n",
    "array.append(\"sunny janjua\")\n",
    "print(f\"my list is {array}\")"
   ]
  },
  {
   "cell_type": "code",
   "execution_count": 20,
   "metadata": {},
   "outputs": [
    {
     "name": "stdout",
     "output_type": "stream",
     "text": [
      "2\n",
      "my list is [104, 1043, 102, 102, 106, 1098, 'hussnian', 'awais', 'danish', 'ali', 'usman', 3434.3223, True, False]\n"
     ]
    }
   ],
   "source": [
    "# use for find index of value in list\n",
    "array:list = [104, 1043, 102,102, 106, 1098 ,\"hussnian\",\"awais\",\"danish\",\"ali\",\"usman\",3434.3223,True,False]\n",
    "print(array.index(102))\n",
    "print(f\"my list is {array}\")"
   ]
  },
  {
   "cell_type": "code",
   "execution_count": 21,
   "metadata": {},
   "outputs": [
    {
     "name": "stdout",
     "output_type": "stream",
     "text": [
      "106\n",
      "my list is [104, 1043, 102, 102, 1098, 'hussnian', 'awais', 'danish', 'ali', 'usman', 3434.3223, True, False]\n"
     ]
    }
   ],
   "source": [
    "# use to remove value in list through index\n",
    "array:list = [104, 1043, 102,102, 106, 1098 ,\"hussnian\",\"awais\",\"danish\",\"ali\",\"usman\",3434.3223,True,False]\n",
    "print(array.pop(4))\n",
    "print(f\"my list is {array}\")"
   ]
  },
  {
   "cell_type": "code",
   "execution_count": 22,
   "metadata": {},
   "outputs": [
    {
     "name": "stdout",
     "output_type": "stream",
     "text": [
      "my list is [104, 1043, 102, 102, 'hello world', 106, 1098, 'hussnian', 'awais', 'danish', 'ali', 'usman', 3434.3223, True, False]\n"
     ]
    }
   ],
   "source": [
    "# use to add value in  list through using index number\n",
    "array:list = [104, 1043, 102,102, 106, 1098 ,\"hussnian\",\"awais\",\"danish\",\"ali\",\"usman\",3434.3223,True,False] \n",
    "array.insert(4,\"hello world\")\n",
    "print(f\"my list is {array}\")"
   ]
  },
  {
   "cell_type": "code",
   "execution_count": 23,
   "metadata": {},
   "outputs": [
    {
     "name": "stdout",
     "output_type": "stream",
     "text": [
      "2\n"
     ]
    }
   ],
   "source": [
    "# use to find tha duplicate value in list\n",
    "array:list = [104, 1043, 102,102, 106, 1098 ,\"hussnian\",\"awais\",\"danish\",\"ali\",\"usman\",3434.3223,True,False]\n",
    "print(array.count(102))"
   ]
  },
  {
   "cell_type": "code",
   "execution_count": 26,
   "metadata": {},
   "outputs": [
    {
     "name": "stdout",
     "output_type": "stream",
     "text": [
      "my list is [104, 1043, 102, 102, 106, 1098, 'hussnian', 'awais', 'danish', 'ali', 'usman', 3434.3223, True, False, 1, 2, 3, 4, 5, 6, 7, 8, 9]\n"
     ]
    }
   ],
   "source": [
    "# use to add a new list at the end of old list\n",
    "array:list = [104, 1043, 102,102, 106, 1098 ,\"hussnian\",\"awais\",\"danish\",\"ali\",\"usman\",3434.3223,True,False]\n",
    "array.extend([1,2,3,4,5,6,7,8,9])\n",
    "print(f\"my list is {array}\")"
   ]
  },
  {
   "cell_type": "code",
   "execution_count": 30,
   "metadata": {},
   "outputs": [
    {
     "name": "stdout",
     "output_type": "stream",
     "text": [
      "my list is [104, 1043, 102, 102, 106, 1098, 'awais', 'danish', 'ali', 'usman', 3434.3223, True, False]\n"
     ]
    }
   ],
   "source": [
    "# use to remove value in list through name of value\n",
    "array:list = [104, 1043, 102,102, 106, 1098 ,\"hussnian\",\"awais\",\"danish\",\"ali\",\"usman\",3434.3223,True,False]\n",
    "array.remove(\"hussnian\")\n",
    "print(f\"my list is {array}\")"
   ]
  },
  {
   "cell_type": "code",
   "execution_count": 33,
   "metadata": {},
   "outputs": [
    {
     "name": "stdout",
     "output_type": "stream",
     "text": [
      "my list is [0, 1, 2, 4, 6, 7, 9]\n"
     ]
    }
   ],
   "source": [
    "# use to sort a vlues in list\n",
    "array:list = [4,9,7,1,6,2,0]\n",
    "array.sort()\n",
    "print(f\"my list is {array}\")"
   ]
  },
  {
   "cell_type": "code",
   "execution_count": null,
   "metadata": {},
   "outputs": [],
   "source": []
  }
 ],
 "metadata": {
  "kernelspec": {
   "display_name": "Python 3",
   "language": "python",
   "name": "python3"
  },
  "language_info": {
   "codemirror_mode": {
    "name": "ipython",
    "version": 3
   },
   "file_extension": ".py",
   "mimetype": "text/x-python",
   "name": "python",
   "nbconvert_exporter": "python",
   "pygments_lexer": "ipython3",
   "version": "3.12.1"
  }
 },
 "nbformat": 4,
 "nbformat_minor": 2
}
