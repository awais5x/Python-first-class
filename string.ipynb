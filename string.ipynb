{
 "cells": [
  {
   "cell_type": "code",
   "execution_count": 1,
   "metadata": {},
   "outputs": [
    {
     "name": "stdout",
     "output_type": "stream",
     "text": [
      "we won match\n"
     ]
    }
   ],
   "source": [
    "# 'single inverted coma' use for single line string\n",
    "var='we won match'\n",
    "print(var)"
   ]
  },
  {
   "cell_type": "code",
   "execution_count": 2,
   "metadata": {},
   "outputs": [
    {
     "name": "stdout",
     "output_type": "stream",
     "text": [
      "rainy day\n"
     ]
    }
   ],
   "source": [
    "# \"double inverted coma\" is also use for single line string\n",
    "var1=\"rainy day\"\n",
    "print(var1)"
   ]
  },
  {
   "cell_type": "code",
   "execution_count": 3,
   "metadata": {},
   "outputs": [
    {
     "data": {
      "text/plain": [
       "' All items must be in original condition with barcode hangtag & label intact at the time of Exchange.\\nExchange within 30 days from the date of purchase\\nSales receipt is to be presented for product exchange and complaint registration.\\nWe will not exchange any product during Sales/Promotions\\nSales item products CANNOT be exchanged.\\nGrooms wear, Fragrances, Cosmetics, Accessories & Jewelry cannot be returned or exchanged.\\nDuring Sales/Promotions kindly check the product at the time of purchase. Store will not be responsible for any damage afterward.\\nFor shoes free service/repair within 15 days from the date of purchase'"
      ]
     },
     "execution_count": 3,
     "metadata": {},
     "output_type": "execute_result"
    }
   ],
   "source": [
    "# \"\"\"triple invertde coma/doc string\"\"\" use for cmnt and multiline string\n",
    "\"\"\" All items must be in original condition with barcode hangtag & label intact at the time of Exchange.\n",
    "Exchange within 30 days from the date of purchase\n",
    "Sales receipt is to be presented for product exchange and complaint registration.\n",
    "We will not exchange any product during Sales/Promotions\n",
    "Sales item products CANNOT be exchanged.\n",
    "Grooms wear, Fragrances, Cosmetics, Accessories & Jewelry cannot be returned or exchanged.\n",
    "During Sales/Promotions kindly check the product at the time of purchase. Store will not be responsible for any damage afterward.\n",
    "For shoes free service/repair within 15 days from the date of purchase\"\"\""
   ]
  },
  {
   "cell_type": "code",
   "execution_count": 4,
   "metadata": {},
   "outputs": [
    {
     "name": "stdout",
     "output_type": "stream",
     "text": [
      "my name awais and my age 20\n"
     ]
    }
   ],
   "source": [
    "# simple format string\n",
    "name=\"awais\"\n",
    "age=20\n",
    "print(\"my name\",name,\"and my age\",age)"
   ]
  },
  {
   "cell_type": "code",
   "execution_count": 5,
   "metadata": {},
   "outputs": [
    {
     "name": "stdout",
     "output_type": "stream",
     "text": [
      "my name awais and 20 is my age\n",
      "my name awais and 20 is my age\n"
     ]
    }
   ],
   "source": [
    "# formated string\n",
    "name=\"awais\"\n",
    "age=20\n",
    "print(f\"my name {name} and {age} is my age\")\n",
    "print(\"my name {} and {} is my age\".format(name,age))"
   ]
  },
  {
   "cell_type": "code",
   "execution_count": 6,
   "metadata": {},
   "outputs": [
    {
     "name": "stdout",
     "output_type": "stream",
     "text": [
      "my name awais and 20 is my age\n"
     ]
    }
   ],
   "source": [
    "# old style formating\n",
    "name=\"awais\"\n",
    "age=20\n",
    "print(\"my name %s and %d is my age\"%(name,age))"
   ]
  },
  {
   "cell_type": "code",
   "execution_count": 7,
   "metadata": {},
   "outputs": [
    {
     "name": "stdout",
     "output_type": "stream",
     "text": [
      "rainy day thats why class off\n"
     ]
    }
   ],
   "source": [
    "# concatenation string (,)use for join two string with space\n",
    "var=\"rainy day\"\n",
    "var1=\"thats why class off\"\n",
    "print(var,var1)"
   ]
  },
  {
   "cell_type": "code",
   "execution_count": 8,
   "metadata": {},
   "outputs": [
    {
     "name": "stdout",
     "output_type": "stream",
     "text": [
      "class is held cannot going off\n"
     ]
    }
   ],
   "source": [
    "# concatenation string (+)use for join two string without space\n",
    "var=\"class is held can\"\n",
    "var1=\"not going off\"\n",
    "print(var+var1)"
   ]
  },
  {
   "cell_type": "code",
   "execution_count": null,
   "metadata": {},
   "outputs": [],
   "source": []
  }
 ],
 "metadata": {
  "kernelspec": {
   "display_name": "Python 3",
   "language": "python",
   "name": "python3"
  },
  "language_info": {
   "codemirror_mode": {
    "name": "ipython",
    "version": 3
   },
   "file_extension": ".py",
   "mimetype": "text/x-python",
   "name": "python",
   "nbconvert_exporter": "python",
   "pygments_lexer": "ipython3",
   "version": "3.12.1"
  }
 },
 "nbformat": 4,
 "nbformat_minor": 2
}
