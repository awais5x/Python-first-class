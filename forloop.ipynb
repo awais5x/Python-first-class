{
  "cells": [
    {
      "cell_type": "markdown",
      "metadata": {
        "colab_type": "text",
        "id": "view-in-github"
      },
      "source": [
        "<a href=\"https://colab.research.google.com/github/awais5x/Python-first-class/blob/main/practise.ipynb\" target=\"_parent\"><img src=\"https://colab.research.google.com/assets/colab-badge.svg\" alt=\"Open In Colab\"/></a>"
      ]
    },
    {
      "cell_type": "code",
      "execution_count": 4,
      "metadata": {
        "id": "CSDASqGHCC1a"
      },
      "outputs": [
        {
          "name": "stdout",
          "output_type": "stream",
          "text": [
            "0\n",
            "1\n",
            "2\n",
            "3\n",
            "4\n",
            "5\n",
            "6\n",
            "7\n",
            "8\n",
            "9\n"
          ]
        }
      ],
      "source": [
        "# forloop in range\n",
        "for i in range(0,10,):\n",
        "     print(i)"
      ]
    },
    {
      "cell_type": "code",
      "execution_count": 6,
      "metadata": {},
      "outputs": [
        {
          "name": "stdout",
          "output_type": "stream",
          "text": [
            "my list element is 1\n",
            "my list element is 2\n",
            "my list element is 3\n",
            "my list element is 4\n",
            "my list element is 5\n",
            "my list element is 6\n",
            "my list element is 7\n",
            "my list element is 8\n"
          ]
        }
      ],
      "source": [
        "# forloop in list\n",
        "newList=[1,2,3,4,5,6,7,8]\n",
        "for i in newList:\n",
        "     print(f\"my list element is {i}\")"
      ]
    },
    {
      "cell_type": "code",
      "execution_count": 9,
      "metadata": {},
      "outputs": [
        {
          "name": "stdout",
          "output_type": "stream",
          "text": [
            "17x0=0\n",
            "17x1=17\n",
            "17x2=34\n",
            "17x3=51\n",
            "17x4=68\n",
            "17x5=85\n",
            "17x6=102\n",
            "17x7=119\n",
            "17x8=136\n",
            "17x9=153\n",
            "17x10=170\n"
          ]
        }
      ],
      "source": [
        "# making table in forloop\n",
        "table=int(input(\"Enter Your Number:\"))\n",
        "for i in range(11):\n",
        "    print(f\"{table}x{i}={table*i}\")"
      ]
    },
    {
      "cell_type": "code",
      "execution_count": 1,
      "metadata": {},
      "outputs": [
        {
          "name": "stdout",
          "output_type": "stream",
          "text": [
            "Sum: 55\n"
          ]
        }
      ],
      "source": [
        "# forloop in sum\n",
        "sum = 0\n",
        "for i in range(1, 11):\n",
        "    sum += i\n",
        "print(\"Sum:\", sum)"
      ]
    },
    {
      "cell_type": "code",
      "execution_count": null,
      "metadata": {},
      "outputs": [],
      "source": []
    }
  ],
  "metadata": {
    "colab": {
      "authorship_tag": "ABX9TyMLLda2/XVAyKyu7WWO/y/a",
      "include_colab_link": true,
      "provenance": [],
      "toc_visible": true
    },
    "kernelspec": {
      "display_name": "Python 3",
      "name": "python3"
    },
    "language_info": {
      "codemirror_mode": {
        "name": "ipython",
        "version": 3
      },
      "file_extension": ".py",
      "mimetype": "text/x-python",
      "name": "python",
      "nbconvert_exporter": "python",
      "pygments_lexer": "ipython3",
      "version": "3.12.1"
    }
  },
  "nbformat": 4,
  "nbformat_minor": 0
}
